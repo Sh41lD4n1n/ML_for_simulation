{
 "cells": [
  {
   "cell_type": "markdown",
   "id": "f630d2b1-407c-4d57-b79f-d19bbfee757e",
   "metadata": {},
   "source": [
    "Shalagin Danil"
   ]
  },
  {
   "cell_type": "code",
   "execution_count": 1,
   "id": "934157af-d4d2-4e9f-9b75-4b9ac1acfc77",
   "metadata": {},
   "outputs": [],
   "source": [
    "import simpy\n",
    "import queue\n",
    "import numpy as np"
   ]
  },
  {
   "cell_type": "markdown",
   "id": "a69ff002-d0bb-405c-bf32-bc70fbc40100",
   "metadata": {
    "tags": []
   },
   "source": [
    "# Task 4\n",
    "\n",
    "On average, 3 cars arrive at the warehouse per hour. Unloading is carried out by 3 teams of loaders. The average unloading time of the machine is 1 hour. There can be no more than 4 cars in the queue waiting for unloading. Determine the performance of the queuing system."
   ]
  },
  {
   "cell_type": "code",
   "execution_count": 2,
   "id": "b82cb71c-a20b-4899-81c8-4c3568ceaa6f",
   "metadata": {},
   "outputs": [],
   "source": [
    "class Warehouse:\n",
    "    def __init__(self,env):\n",
    "        self.num_servers = 3\n",
    "        self.env = env\n",
    "        self.cashier = simpy.Resource(env,self.num_servers)\n",
    "        self.mu = 1\n",
    "        \n",
    "        self.queue_lenght = 0\n",
    "        self.req_den = 0\n",
    "        self.req_served_im = 0\n",
    "        self.cur_req_num = 0\n",
    "        self.req_num = 0\n",
    "        \n",
    "        self.start_b_time = 0\n",
    "    def is_free(self,time):\n",
    "        if self.cashier.count==0:\n",
    "            busy_time  = time - self.start_b_time\n",
    "            self.start_b_time = time\n",
    "            return busy_time if not (busy_time==0) else None\n",
    "        else:\n",
    "            return None\n",
    "        \n",
    "    def unload(self,client):\n",
    "        time = round(np.random.exponential(self.mu),2)\n",
    "        #print(f\"mu {time}\")\n",
    "        yield self.env.timeout(time)\n",
    "        \n",
    "    def add_to_queue(self):\n",
    "        if self.queue_lenght<4:\n",
    "            self.queue_lenght+=1\n",
    "            #print(\"add\")\n",
    "            #print(self.queue_lenght)\n",
    "            return True\n",
    "        else:\n",
    "            return False\n",
    "    def remove_from_queue(self):\n",
    "        if self.queue_lenght>0:\n",
    "            self.queue_lenght-=1"
   ]
  },
  {
   "cell_type": "code",
   "execution_count": 3,
   "id": "ff16eb5f-c390-41e9-a09f-edba753a65fa",
   "metadata": {},
   "outputs": [],
   "source": [
    "\n",
    "def go_to_warehouse(env,client,warehouse,s):\n",
    "    time_arrive = env.now\n",
    "    collect_metrics(warehouse.queue_lenght+3-warehouse.cashier.count+1,\"avrg_req_num\",s)# collect queue\n",
    "    #print(f\"go {warehouse.queue_lenght}\")\n",
    "    if warehouse.cashier.count==warehouse.num_servers:\n",
    "        if warehouse.add_to_queue():\n",
    "            collect_metrics(warehouse.queue_lenght,\"q_length\",s)# collect queue\n",
    "            #print(f\"Car {client} in queue at time {env.now}\")\n",
    "            \n",
    "            with warehouse.cashier.request() as request:\n",
    "                #print(f\"Car {client} request resourse at time {env.now}\")\n",
    "                time_leave_q = env.now\n",
    "                warehouse.cur_req_num+=1\n",
    "                warehouse.req_num+=1\n",
    "                collect_metrics(warehouse.cur_req_num/client,\"cur_n\",s)\n",
    "                collect_metrics(warehouse.req_num/client,\"util\",s)\n",
    "                \n",
    "                yield request\n",
    "                warehouse.remove_from_queue()\n",
    "\n",
    "                yield env.process(warehouse.unload(client))\n",
    "                #print(f\"Car {client} release resourse at time {env.now}\")\n",
    "                #print(f\"Car {client} leave at time {env.now}\")\n",
    "        else:\n",
    "            #print(f\"Car {client} denied at time {env.now}\")\n",
    "            time_leave_q = env.now\n",
    "            warehouse.req_den+=1\n",
    "            collect_metrics(warehouse.req_den/client,\"p_den\",s) # collect denied requests\n",
    "            \n",
    "            \n",
    "    else:\n",
    "        warehouse.req_served_im+=1\n",
    "        collect_metrics(warehouse.req_served_im/client,\"p_im\",s) # prob imid resolving\n",
    "        \n",
    "        with warehouse.cashier.request() as request:\n",
    "            time_leave_q = env.now\n",
    "            #print(f\"Car {client} request resourse at time {env.now}\")\n",
    "            warehouse.cur_req_num+=1\n",
    "            warehouse.req_num+=1\n",
    "            collect_metrics(warehouse.cur_req_num/client,\"cur_n\",s)\n",
    "            collect_metrics(warehouse.req_num/client,\"util\",s)\n",
    "            yield request\n",
    "            warehouse.remove_from_queue()\n",
    "\n",
    "            yield env.process(warehouse.unload(client))\n",
    "            #print(f\"Car {client} release resourse at time {env.now}\")\n",
    "            #print(f\"Car {client} leave at time {env.now}\")\n",
    "    \n",
    "    warehouse.cur_req_num-=1\n",
    "    collect_metrics(warehouse.cur_req_num/client,\"cur_n\",s)\n",
    "    time_leave = env.now\n",
    "    collect_metrics(time_leave - time_arrive ,\"avrg_w\",s)# time request in system\n",
    "    collect_metrics(time_leave_q - time_arrive ,\"avrg_w_q\",s)# time in queue \n",
    "    collect_metrics(warehouse.queue_lenght,\"q_length\",s)# collect queue\n",
    "    collect_metrics(warehouse.req_den/client,\"p_den\",s) # collect denied requests\n",
    "    collect_metrics(warehouse.req_served_im/client,\"p_im\",s) # prob imid resolving\n",
    "    collect_metrics(warehouse.is_free(env.now),\"busy_t\",s)\n",
    "    \n",
    "    "
   ]
  },
  {
   "cell_type": "code",
   "execution_count": 4,
   "id": "09793fe1-fdff-4a5b-b1be-8a21683a705b",
   "metadata": {},
   "outputs": [],
   "source": [
    "def run_warehouse(env,l,s):\n",
    "    warehouse = Warehouse(env)\n",
    "    car = 0\n",
    "    while True:\n",
    "        time = round(np.random.exponential(l),2)\n",
    "        #print(f\"lambda {time}\")\n",
    "        yield env.timeout(time)\n",
    "        car +=1\n",
    "        env.process(go_to_warehouse(env,car,warehouse,s))"
   ]
  },
  {
   "cell_type": "code",
   "execution_count": 5,
   "id": "360398d6-b9c4-4480-9b11-1431f634fdf7",
   "metadata": {},
   "outputs": [
    {
     "data": {
      "text/plain": [
       "'\\nЗакон распределения времени ожидания заявки\\nЗакон распределения времени прибытия\\n'"
      ]
     },
     "execution_count": 5,
     "metadata": {},
     "output_type": "execute_result"
    }
   ],
   "source": [
    "import numpy as np\n",
    "\n",
    "def collect_metrics(elem,label, metric):\n",
    "    if metric.name==label:\n",
    "        if not (elem==None):\n",
    "            metric.collect(elem)\n",
    "    \n",
    "    #not Collect Относительный пропускная способность\n",
    "    #not Collect Абсолютная пропускная способность \n",
    "\n",
    "    pass\n",
    "class Statistic:\n",
    "    #Avarage queue length done\n",
    "    #Вероятность отказа done\n",
    "    #Вероятность немедленного принятия done\n",
    "    #Среднее время ожидания в очереди\n",
    "    #Среднее время пребывания заявки\n",
    "    #Среднее число заявок в СМО\n",
    "    NAMES = [\"q_length\",\"p_den\", \"p_im\", \"avrg_w_q\",\"avrg_w\",\"avrg_req_num\",\"cur_n\",\"util\",\"busy_t\"]\n",
    "    METR_NAME = {\"q_length\":\"Avarage queue length\",\n",
    "                 \"p_den\":\"Probability of refused\",\n",
    "                 \"p_im\":\"Probability of imidiate responce\",\n",
    "                 \"avrg_w_q\":\" Avarage time in queue\",\n",
    "                 \"avrg_w\":\"Avarage time car spend in warehouse system\",\n",
    "                 \"avrg_req_num\":\"Относительная пропускная способность\",\n",
    "                 \"cur_n\":\"Avarage number of cars in system\",\n",
    "                 \"util\":\"System utilisation\",\n",
    "                 \"busy_t\":\"Mean busy period of the system\"}\n",
    "    def __init__(self,event,name,epsilon, num_elem):\n",
    "        self.event = event\n",
    "        self.name = name\n",
    "        self.full_name = Statistic.METR_NAME[name]\n",
    "        self.array = []\n",
    "        self.num_elem = num_elem\n",
    "        self.epsilon = epsilon\n",
    "    def collect(self,elem):\n",
    "        self.array.append(elem)\n",
    "        if self.check_stability():\n",
    "            self.event.succeed()\n",
    "            \n",
    "            \n",
    "    \n",
    "    def check_stability(self):\n",
    "        last_index = len(self.array)-1\n",
    "        if last_index-self.num_elem<0:\n",
    "            return False\n",
    "        first_index = last_index-self.num_elem\n",
    "            \n",
    "        a = np.array(self.array[first_index:last_index])\n",
    "        #print(f'check_stab {a}')\n",
    "        #print(f'mean {np.mean(a)}')\n",
    "        #print(f\"value {pow(np.var(a),0.5)}\")\n",
    "        if pow(float(np.var(a)),0.5) < self.epsilon:\n",
    "            return True\n",
    "        else:\n",
    "            return False\n",
    "    def calculate_avrg(self):\n",
    "        a = np.array(self.array)\n",
    "        return a.mean()\n",
    "    def calculate(self):\n",
    "        alpha = 0.9\n",
    "        last_index = len(self.array)-1\n",
    "        first_index = last_index-self.num_elem\n",
    "        a = np.array(self.array[first_index:last_index])\n",
    "        res = a[0]\n",
    "        a = np.delete(a,0)\n",
    "        for elem in a:\n",
    "            res = alpha*elem + (1-alpha)*res\n",
    "        return res\n"
   ]
  },
  {
   "cell_type": "markdown",
   "id": "0c15e4f7-ca55-4589-a368-64cf61d1d27c",
   "metadata": {
    "tags": []
   },
   "source": [
    "## Find metrics with simulation"
   ]
  },
  {
   "cell_type": "markdown",
   "id": "8a4fc12d-0e65-4149-9074-1812421448ea",
   "metadata": {},
   "source": [
    "As limit of sequence deviation of `num_elem` numbers is compared with `eps`. Simulation is repeated 1000 times."
   ]
  },
  {
   "cell_type": "code",
   "execution_count": 8,
   "id": "759d4015-d20d-4802-a63b-f20974495ffa",
   "metadata": {
    "tags": []
   },
   "outputs": [
    {
     "name": "stdout",
     "output_type": "stream",
     "text": [
      "name, value, avarage value\n",
      "result: Avarage queue length, 0.0, 0.007226665351498292\n",
      "---------------------\n",
      "result: Probability of refused, 0.0, 0.0\n",
      "---------------------\n",
      "result: Probability of imidiate responce, 1.0076457520095519, 1.0343787579795345\n",
      "---------------------\n",
      "result:  Avarage time in queue, 0.0, 0.0\n",
      "---------------------\n",
      "result: Avarage time car spend in warehouse system, 0.8070749668926949, 0.9543765730461768\n",
      "---------------------\n",
      "result: Относительная пропускная способность, 3.982525782847035, 3.696970245933389\n",
      "---------------------\n",
      "result: Avarage number of cars in system, 0.0005391987421148332, 0.008929455869172096\n",
      "---------------------\n",
      "result: System utilisation, 1.0, 1.0\n",
      "---------------------\n",
      "result: Mean busy period of the system, 2.422063420033359, 4.137387328185659\n",
      "---------------------\n"
     ]
    }
   ],
   "source": [
    "#metrics = [length_of_queue, prob_den, prob_get_im, waiting_time, proc_time, av_req_num]\n",
    "\n",
    "result = {\"q_length\":[[],[]],\"p_den\":[[],[]], \"p_im\":[[],[]], \"avrg_w_q\":[[],[]],\"avrg_w\":[[],[]],\"avrg_req_num\":[[],[]],\"cur_n\":[[],[]],\"util\":[[],[]],\"busy_t\":[[],[]]}\n",
    "for i in range(1000):\n",
    "    for [name,eps,n] in [[\"q_length\",0.01,100],[\"p_den\",0.01,10], [\"p_im\",0.1,20], [\"avrg_w_q\",0.01,100],[\"avrg_w\",0.8,30],[\"avrg_req_num\",0.3,20],[\"cur_n\",0.001,40],[\"util\",0.01,10],[\"busy_t\",0.9,10]]:\n",
    "        env = simpy.Environment()\n",
    "        event = env.event()\n",
    "        stat = Statistic(event = event,name = name,epsilon = eps, num_elem = n)\n",
    "        env.process(run_warehouse(env,3,stat))\n",
    "        env.run(until = event)\n",
    "        result[stat.name][0].append(stat.calculate())\n",
    "        result[stat.name][1].append(stat.calculate_avrg())\n",
    "        #print(f\"result: {stat.full_name}, {stat.calculate()}, {stat.calculate_avrg()}\")\n",
    "\n",
    "        \n"
   ]
  },
  {
   "cell_type": "markdown",
   "id": "fd35318d-ec9b-4c52-b217-a7af0635ff46",
   "metadata": {},
   "source": [
    "## Print results anCompare with theoretical values"
   ]
  },
  {
   "cell_type": "code",
   "execution_count": 30,
   "id": "9a1eb426-f113-499a-afa5-347e0f3cf9eb",
   "metadata": {},
   "outputs": [
    {
     "name": "stdout",
     "output_type": "stream",
     "text": [
      "name, value, avarage value\n",
      "result: Avarage queue length, 0.0, 0.007226665351498292\n",
      "---------------------\n",
      "result: Probability of refused, 0.0, 0.0\n",
      "---------------------\n",
      "result: Probability of imidiate responce, 1.0076457520095519, 1.0343787579795345\n",
      "---------------------\n",
      "result:  Avarage time in queue, 0.0, 0.0\n",
      "---------------------\n",
      "result: Avarage time car spend in warehouse system, 0.8070749668926949, 0.9543765730461768\n",
      "---------------------\n",
      "result: Относительная пропускная способность, 3.982525782847035, 3.696970245933389\n",
      "---------------------\n",
      "result: Avarage number of cars in system, 0.0005391987421148332, 0.008929455869172096\n",
      "---------------------\n",
      "result: System utilisation, 1.0, 1.0\n",
      "---------------------\n",
      "result: Mean busy period of the system, 2.422063420033359, 4.137387328185659\n",
      "---------------------\n",
      "compare with th_solution: Avarage queue length, -0.870967742 \n",
      "---------------------\n",
      "compare with th_solution: Probability of refused, -0.14516129 \n",
      "---------------------\n",
      "compare with th_solution: Probability of imidiate responce, 0.4753876870095519 \n",
      "---------------------\n",
      "compare with th_solution:  Avarage time in queue, -1.0 \n",
      "---------------------\n",
      "compare with th_solution: Avarage time car spend in warehouse system, -0.19292503310730513 \n",
      "---------------------\n",
      "compare with th_solution: Относительная пропускная способность, 2.982525782847035 \n",
      "---------------------\n",
      "compare with th_solution: Avarage number of cars in system, -0.9994608012578852 \n",
      "---------------------\n",
      "compare with th_solution: System utilisation, 0.0 \n",
      "---------------------\n",
      "compare with th_solution: Mean busy period of the system, 1.4220634200333588 \n",
      "---------------------\n"
     ]
    }
   ],
   "source": [
    "theor_val = {\"q_length\":0.870967742,\"p_den\":0.14516129, \"p_im\":0.532258065, \n",
    "             \"avrg_w_q\":1,\"avrg_w\":1,\"avrg_req_num\":1,\"cur_n\":1,\"util\":1,\"busy_t\":1}\n",
    "print(f\"name, value, avarage value\")\n",
    "for k in result.keys():\n",
    "    print(f\"result: {Statistic.METR_NAME[k]}, {sum(result[k][0])/len(result[k][0])}, {sum(result[k][1])/len(result[k][1])}\")\n",
    "    print(\"---------------------\")\n",
    "for k in result.keys():\n",
    "    print(f\"compare with th_solution: {Statistic.METR_NAME[k]}, {sum(result[k][0])/len(result[k][0]) - theor_val[k]} \")\n",
    "    print(\"---------------------\")"
   ]
  },
  {
   "cell_type": "markdown",
   "id": "243f2d4d-7efe-4d0c-8d74-817002229ab9",
   "metadata": {},
   "source": [
    "## Calcuate value of metrics\n",
    "Use convergence by probability"
   ]
  },
  {
   "cell_type": "code",
   "execution_count": 27,
   "id": "15da300f-9839-4e1a-8ef1-abcba959ef62",
   "metadata": {},
   "outputs": [
    {
     "name": "stdout",
     "output_type": "stream",
     "text": [
      "Относительная пропускная способность, value = 3.1\n",
      "System utilisation, value = 1.0\n"
     ]
    }
   ],
   "source": [
    "import numpy as np\n",
    "for k in result.keys():\n",
    "    a1 = np.array(result[k][0])\n",
    "    unique = np.unique(a1)\n",
    "    for i in unique:\n",
    "        if (1 - a1[a1==i].sum()/len(unique))<0.01:\n",
    "            print(f\"{Statistic.METR_NAME[k]}, value = {i}\")\n",
    "            break\n",
    "        "
   ]
  }
 ],
 "metadata": {
  "kernelspec": {
   "display_name": "Python 3 (ipykernel)",
   "language": "python",
   "name": "python3"
  },
  "language_info": {
   "codemirror_mode": {
    "name": "ipython",
    "version": 3
   },
   "file_extension": ".py",
   "mimetype": "text/x-python",
   "name": "python",
   "nbconvert_exporter": "python",
   "pygments_lexer": "ipython3",
   "version": "3.8.8"
  }
 },
 "nbformat": 4,
 "nbformat_minor": 5
}
