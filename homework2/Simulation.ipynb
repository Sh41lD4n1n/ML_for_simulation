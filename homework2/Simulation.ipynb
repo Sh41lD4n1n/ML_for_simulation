{
 "cells": [
  {
   "cell_type": "code",
   "execution_count": 25,
   "id": "432d62fe-429f-459e-8bb4-848e297e3eaf",
   "metadata": {},
   "outputs": [
    {
     "name": "stdout",
     "output_type": "stream",
     "text": [
      "Populating the interactive namespace from numpy and matplotlib\n"
     ]
    },
    {
     "name": "stderr",
     "output_type": "stream",
     "text": [
      "/home/danil-pass123/anaconda3/lib/python3.8/site-packages/IPython/core/magics/pylab.py:159: UserWarning: pylab import has clobbered these variables: ['step']\n",
      "`%matplotlib` prevents importing * from pylab and numpy\n",
      "  warn(\"pylab import has clobbered these variables: %s\"  % clobbered +\n"
     ]
    }
   ],
   "source": [
    "#!pip install pysd\n",
    "%pylab inline\n",
    "%matplotlib inline\n",
    "import pysd\n",
    "import pandas as pd\n",
    "import numpy as np\n",
    "import matplotlib.pyplot as plt\n",
    "e_model = pysd.load('./model-Copy1.py')"
   ]
  },
  {
   "cell_type": "markdown",
   "id": "886b282b-0d55-4f48-8378-ba36f2805bf8",
   "metadata": {
    "tags": []
   },
   "source": [
    "## Simulation"
   ]
  },
  {
   "cell_type": "markdown",
   "id": "f44c5197-434c-4fe3-a038-d8343baae44f",
   "metadata": {},
   "source": [
    "### Model description"
   ]
  },
  {
   "cell_type": "code",
   "execution_count": 26,
   "id": "0f10a194-51f7-40f1-b836-120e782ca857",
   "metadata": {},
   "outputs": [
    {
     "data": {
      "text/html": [
       "<div>\n",
       "<style scoped>\n",
       "    .dataframe tbody tr th:only-of-type {\n",
       "        vertical-align: middle;\n",
       "    }\n",
       "\n",
       "    .dataframe tbody tr th {\n",
       "        vertical-align: top;\n",
       "    }\n",
       "\n",
       "    .dataframe thead th {\n",
       "        text-align: right;\n",
       "    }\n",
       "</style>\n",
       "<table border=\"1\" class=\"dataframe\">\n",
       "  <thead>\n",
       "    <tr style=\"text-align: right;\">\n",
       "      <th></th>\n",
       "      <th>Real Name</th>\n",
       "      <th>Py Name</th>\n",
       "      <th>Unit</th>\n",
       "      <th>Lims</th>\n",
       "      <th>Type</th>\n",
       "      <th>Subs</th>\n",
       "      <th>Eqn</th>\n",
       "      <th>Comment</th>\n",
       "    </tr>\n",
       "  </thead>\n",
       "  <tbody>\n",
       "    <tr>\n",
       "      <th>9</th>\n",
       "      <td>fruitfulness of marketing</td>\n",
       "      <td>fruitfulness_M</td>\n",
       "      <td>person/contact</td>\n",
       "      <td>(None, None)</td>\n",
       "      <td>constant</td>\n",
       "      <td>characteristic of companies</td>\n",
       "      <td>0.01</td>\n",
       "      <td></td>\n",
       "    </tr>\n",
       "    <tr>\n",
       "      <th>20</th>\n",
       "      <td>proportion of dissapointed clients</td>\n",
       "      <td>p_dissapointed</td>\n",
       "      <td></td>\n",
       "      <td>(None, None)</td>\n",
       "      <td>constant</td>\n",
       "      <td>characteristic of companies</td>\n",
       "      <td>0.25</td>\n",
       "      <td>Probablility that given person is dissapointed...</td>\n",
       "    </tr>\n",
       "    <tr>\n",
       "      <th>21</th>\n",
       "      <td>proportion of dissapointed compatitor clients</td>\n",
       "      <td>p_dissapointed_comp</td>\n",
       "      <td></td>\n",
       "      <td>(None, None)</td>\n",
       "      <td>constant</td>\n",
       "      <td>characteristic of companies</td>\n",
       "      <td>0.25</td>\n",
       "      <td>Probablility that given person is dissapointed...</td>\n",
       "    </tr>\n",
       "    <tr>\n",
       "      <th>22</th>\n",
       "      <td>proportion of satisfied clients</td>\n",
       "      <td>p_satisfied</td>\n",
       "      <td></td>\n",
       "      <td>(None, None)</td>\n",
       "      <td>constant</td>\n",
       "      <td>characteristic of companies</td>\n",
       "      <td>0.15</td>\n",
       "      <td>Probablility that given person is satisfied in...</td>\n",
       "    </tr>\n",
       "    <tr>\n",
       "      <th>23</th>\n",
       "      <td>proportion of satisfied compatitor clients</td>\n",
       "      <td>p_satisfied_comp</td>\n",
       "      <td></td>\n",
       "      <td>(None, None)</td>\n",
       "      <td>constant</td>\n",
       "      <td>characteristic of companies</td>\n",
       "      <td>0.15</td>\n",
       "      <td>Probablility that given person is satisfied in...</td>\n",
       "    </tr>\n",
       "  </tbody>\n",
       "</table>\n",
       "</div>"
      ],
      "text/plain": [
       "                                        Real Name              Py Name  \\\n",
       "9                       fruitfulness of marketing       fruitfulness_M   \n",
       "20             proportion of dissapointed clients       p_dissapointed   \n",
       "21  proportion of dissapointed compatitor clients  p_dissapointed_comp   \n",
       "22                proportion of satisfied clients          p_satisfied   \n",
       "23     proportion of satisfied compatitor clients     p_satisfied_comp   \n",
       "\n",
       "              Unit          Lims      Type                         Subs   Eqn  \\\n",
       "9   person/contact  (None, None)  constant  characteristic of companies  0.01   \n",
       "20                  (None, None)  constant  characteristic of companies  0.25   \n",
       "21                  (None, None)  constant  characteristic of companies  0.25   \n",
       "22                  (None, None)  constant  characteristic of companies  0.15   \n",
       "23                  (None, None)  constant  characteristic of companies  0.15   \n",
       "\n",
       "                                              Comment  \n",
       "9                                                      \n",
       "20  Probablility that given person is dissapointed...  \n",
       "21  Probablility that given person is dissapointed...  \n",
       "22  Probablility that given person is satisfied in...  \n",
       "23  Probablility that given person is satisfied in...  "
      ]
     },
     "execution_count": 26,
     "metadata": {},
     "output_type": "execute_result"
    }
   ],
   "source": [
    "e_model.doc()[e_model.doc()['Subs']=='characteristic of companies']"
   ]
  },
  {
   "cell_type": "markdown",
   "id": "324ff119-9a3c-47a6-a088-566643d62136",
   "metadata": {},
   "source": [
    "### Simulation"
   ]
  },
  {
   "cell_type": "code",
   "execution_count": 27,
   "id": "e16b637e-5907-41bb-9e18-6bff571bf183",
   "metadata": {
    "tags": []
   },
   "outputs": [
    {
     "data": {
      "text/html": [
       "<div>\n",
       "<style scoped>\n",
       "    .dataframe tbody tr th:only-of-type {\n",
       "        vertical-align: middle;\n",
       "    }\n",
       "\n",
       "    .dataframe tbody tr th {\n",
       "        vertical-align: top;\n",
       "    }\n",
       "\n",
       "    .dataframe thead th {\n",
       "        text-align: right;\n",
       "    }\n",
       "</style>\n",
       "<table border=\"1\" class=\"dataframe\">\n",
       "  <thead>\n",
       "    <tr style=\"text-align: right;\">\n",
       "      <th></th>\n",
       "      <th>potential_customer_concentration</th>\n",
       "      <th>customer_concentration</th>\n",
       "      <th>compatitor_customer_concentration</th>\n",
       "    </tr>\n",
       "  </thead>\n",
       "  <tbody>\n",
       "    <tr>\n",
       "      <th>0</th>\n",
       "      <td>1.000000</td>\n",
       "      <td>0.000000</td>\n",
       "      <td>0.000000</td>\n",
       "    </tr>\n",
       "    <tr>\n",
       "      <th>1</th>\n",
       "      <td>0.978000</td>\n",
       "      <td>0.011000</td>\n",
       "      <td>0.011000</td>\n",
       "    </tr>\n",
       "    <tr>\n",
       "      <th>2</th>\n",
       "      <td>0.955955</td>\n",
       "      <td>0.023013</td>\n",
       "      <td>0.021032</td>\n",
       "    </tr>\n",
       "    <tr>\n",
       "      <th>3</th>\n",
       "      <td>0.933950</td>\n",
       "      <td>0.035988</td>\n",
       "      <td>0.030063</td>\n",
       "    </tr>\n",
       "  </tbody>\n",
       "</table>\n",
       "</div>"
      ],
      "text/plain": [
       "   potential_customer_concentration  customer_concentration  \\\n",
       "0                          1.000000                0.000000   \n",
       "1                          0.978000                0.011000   \n",
       "2                          0.955955                0.023013   \n",
       "3                          0.933950                0.035988   \n",
       "\n",
       "   compatitor_customer_concentration  \n",
       "0                           0.000000  \n",
       "1                           0.011000  \n",
       "2                           0.021032  \n",
       "3                           0.030063  "
      ]
     },
     "execution_count": 27,
     "metadata": {},
     "output_type": "execute_result"
    }
   ],
   "source": [
    "def simulate(p11,p13,p21,p23):\n",
    "    return e_model.run(params = {\n",
    "        'proportion of dissapointed clients':p13,\n",
    "        'proportion of dissapointed compatitor clients':p23,\n",
    "        'proportion of satisfied clients':p11,\n",
    "        'proportion of satisfied compatitor clients':p21,\n",
    "    },\n",
    "        return_columns=['potential_customer_concentration','customer_concentration','compatitor_customer_concentration'])\n",
    "res = simulate(0.25,0.6,0.1,0.5)\n",
    "res.head(4)"
   ]
  },
  {
   "cell_type": "code",
   "execution_count": 28,
   "id": "65cb9ffb-6508-4ba1-9ba4-251b7286f479",
   "metadata": {},
   "outputs": [
    {
     "data": {
      "image/png": "[encoded data removed]",
      "text/plain": [
       "<Figure size 432x288 with 1 Axes>"
      ]
     },
     "metadata": {
      "needs_background": "light"
     },
     "output_type": "display_data"
    }
   ],
   "source": [
    "columns =['potential_customer_concentration', 'customer_concentration', 'compatitor_customer_concentration']\n",
    "def plot_conentration(res):\n",
    "\n",
    "    plt.plot(res.index, res[columns[0]], label=columns[0])\n",
    "    plt.plot(res.index, res[columns[1]], label=columns[1])\n",
    "    plt.plot(res.index, res[columns[2]], label=columns[2])\n",
    "    plt.legend()\n",
    "plot_conentration(res)"
   ]
  },
  {
   "cell_type": "code",
   "execution_count": 29,
   "id": "11b99972-64aa-4eab-b4f0-015099738b03",
   "metadata": {},
   "outputs": [
    {
     "name": "stdout",
     "output_type": "stream",
     "text": [
      "(0.3442538545263277, 0.04317119286363023)\n"
     ]
    }
   ],
   "source": [
    "def calculate_concentration(res):\n",
    "    zeros = pd.DataFrame(data=np.zeros((1,3)),columns=columns)\n",
    "    dif = (pd.concat([res,zeros],axis=0,ignore_index=True) - pd.concat([zeros,res],axis=0,ignore_index=True)).drop([0,res.shape[0]],axis=0)\n",
    "    pos = dif.shape[0]\n",
    "    for i in range(dif.shape[0]-10):\n",
    "        avrg_dif = dif.loc[i:i+10].sum()/10\n",
    "        if abs(avrg_dif[0])<1e-05 and abs(avrg_dif[1])<1e-05 and abs(avrg_dif[2])<1e-05:\n",
    "            pos = i+5\n",
    "            break\n",
    "\n",
    "    M1 = res.loc[pos]['customer_concentration']\n",
    "    M2 = res.loc[pos]['compatitor_customer_concentration']\n",
    "    #if M1+M2>1:\n",
    "    #   print(M1+M2)\n",
    "    return M1,M2\n",
    "print(calculate_concentration(res))"
   ]
  },
  {
   "cell_type": "markdown",
   "id": "7b3c318d-92cc-4b0e-893e-e1124f541f51",
   "metadata": {},
   "source": [
    "### Convergency of model"
   ]
  },
  {
   "cell_type": "code",
   "execution_count": 31,
   "id": "e3eb636b-e0ed-4e99-aa6e-d50d4969ffce",
   "metadata": {},
   "outputs": [
    {
     "name": "stdout",
     "output_type": "stream",
     "text": [
      "system converge at position:352\n",
      "system converge at position:600\n",
      "system converge at position:600\n",
      "system converge at position:32\n",
      "system converge at position:41\n",
      "system converge at position:61\n",
      "system converge at position:18\n",
      "system converge at position:20\n",
      "system converge at position:23\n",
      "system converge at position:600\n",
      "system converge at position:39\n",
      "system converge at position:38\n",
      "system converge at position:28\n",
      "system converge at position:34\n",
      "system converge at position:44\n",
      "system converge at position:18\n",
      "system converge at position:19\n",
      "system converge at position:21\n",
      "system converge at position:600\n",
      "system converge at position:38\n",
      "system converge at position:21\n",
      "system converge at position:26\n",
      "system converge at position:32\n",
      "system converge at position:42\n",
      "system converge at position:18\n",
      "system converge at position:18\n",
      "system converge at position:20\n",
      "system converge at position:32\n",
      "system converge at position:28\n",
      "system converge at position:26\n",
      "system converge at position:23\n",
      "system converge at position:90\n",
      "system converge at position:50\n",
      "system converge at position:31\n",
      "system converge at position:39\n",
      "system converge at position:58\n",
      "system converge at position:41\n",
      "system converge at position:34\n",
      "system converge at position:32\n",
      "system converge at position:90\n",
      "system converge at position:28\n",
      "system converge at position:79\n",
      "system converge at position:28\n",
      "system converge at position:32\n",
      "system converge at position:40\n",
      "system converge at position:61\n",
      "system converge at position:44\n",
      "system converge at position:42\n",
      "system converge at position:50\n",
      "system converge at position:79\n",
      "system converge at position:34\n",
      "system converge at position:25\n",
      "system converge at position:28\n",
      "system converge at position:32\n",
      "system converge at position:18\n",
      "system converge at position:18\n",
      "system converge at position:18\n",
      "system converge at position:31\n",
      "system converge at position:28\n",
      "system converge at position:25\n",
      "system converge at position:17\n",
      "system converge at position:167\n",
      "system converge at position:90\n",
      "system converge at position:20\n",
      "system converge at position:19\n",
      "system converge at position:18\n",
      "system converge at position:39\n",
      "system converge at position:32\n",
      "system converge at position:28\n",
      "system converge at position:167\n",
      "system converge at position:15\n",
      "system converge at position:128\n",
      "system converge at position:23\n",
      "system converge at position:21\n",
      "system converge at position:20\n",
      "system converge at position:58\n",
      "system converge at position:40\n",
      "system converge at position:32\n",
      "system converge at position:90\n",
      "system converge at position:128\n",
      "system converge at position:16\n",
      "avarage 72.65432098765432\n"
     ]
    }
   ],
   "source": [
    "def calculate_concentration1(res):\n",
    "    zeros = pd.DataFrame(data=np.zeros((1,3)),columns=columns)\n",
    "    dif = (pd.concat([res,zeros],axis=0,ignore_index=True) - pd.concat([zeros,res],axis=0,ignore_index=True)).drop([0,res.shape[0]],axis=0)\n",
    "    pos = dif.shape[0]\n",
    "    for i in range(dif.shape[0]-10):\n",
    "        avrg_dif = dif.loc[i:i+10].sum()/10\n",
    "        if abs(avrg_dif[0])<1e-05 and abs(avrg_dif[1])<1e-05 and abs(avrg_dif[2])<1e-05:\n",
    "            pos = i+5\n",
    "            break\n",
    "\n",
    "    M1 = res.loc[pos]['customer_concentration']\n",
    "    M2 = res.loc[pos]['compatitor_customer_concentration']\n",
    "    print(f'system converge at position:{pos}')\n",
    "    #if M1+M2>1:\n",
    "    #   print(M1+M2)\n",
    "    return M1,M2,pos\n",
    "step = 0.4\n",
    "conv_pos = []\n",
    "for p11 in np.arange(0,1,step):\n",
    "    for p13 in np.arange(0,1,step):\n",
    "        for p21 in np.arange(0,1,step):\n",
    "            for p23 in np.arange(0,1,step):\n",
    "                res = simulate(p11,p13,p21,p23)\n",
    "                _,_,con = calculate_concentration1(res)\n",
    "                conv_pos.append(con)\n",
    "print(f\"avarage {sum(conv_pos)/len(conv_pos)}\")"
   ]
  },
  {
   "cell_type": "markdown",
   "id": "29824c0c-8617-4654-b69a-4809aedb9210",
   "metadata": {
    "tags": []
   },
   "source": [
    "### Generate dataset"
   ]
  },
  {
   "cell_type": "code",
   "execution_count": null,
   "id": "e81c7ef9-834c-45df-8450-15087dabf269",
   "metadata": {},
   "outputs": [],
   "source": [
    "from tqdm.notebook import tqdm, trange\n",
    "step = 0.1\n",
    "take_elem = int(pow((1/step),4))\n",
    "print(take_elem)\n",
    "X = np.zeros((take_elem,4))\n",
    "y_company = np.zeros((take_elem,1))\n",
    "y_compatitor = np.zeros((take_elem,1))\n",
    "\n",
    "i = 0\n",
    "iter = tqdm(range(take_elem))\n",
    "for p11 in np.arange(0,1,step):\n",
    "    if i >= take_elem:\n",
    "        break\n",
    "    for p13 in np.arange(0,1,step):\n",
    "        if i >= take_elem:\n",
    "            break\n",
    "        if p11+p13>=1:\n",
    "            #print(p11,p13,p21,p23)\n",
    "            continue\n",
    "        for p21 in np.arange(0,1,step):\n",
    "            if i >= take_elem:\n",
    "                break\n",
    "            for p23 in np.arange(0,1,step):\n",
    "                if i >= take_elem:\n",
    "                    print(i,take_elem)\n",
    "                    break\n",
    "                if p11+p13<1 and p21+p23<1:\n",
    "                    res = simulate(p11,p13,p21,p23)\n",
    "                    \n",
    "                    X[i] = [p11,p13,p21,p23]\n",
    "                    y_company[i],y_compatitor[i] = calculate_concentration(res)\n",
    "                #else:\n",
    "                    #print(p11,p13,p21,p23)\n",
    "                iter.update()\n",
    "                i+=1\n",
    "                    #print(i,i/take_elem)"
   ]
  },
  {
   "cell_type": "markdown",
   "id": "fdc51a15-ba56-451d-9960-16c21e3ba208",
   "metadata": {},
   "source": [
    "Result of symupation is saved on file and loaded if needed"
   ]
  },
  {
   "cell_type": "code",
   "execution_count": 259,
   "id": "15704e45-ffa8-4d4c-a88a-5c68dce7cd37",
   "metadata": {},
   "outputs": [],
   "source": [
    "np.savetxt('dataset_total4.csv',np.concatenate([X[0:i],y_company[0:i],y_compatitor[0:i]],axis = 1),delimiter=',')"
   ]
  },
  {
   "cell_type": "markdown",
   "id": "0c43f021-ab0c-4f7c-89bd-9c0199a30d8e",
   "metadata": {
    "tags": []
   },
   "source": [
    "## Models"
   ]
  },
  {
   "cell_type": "code",
   "execution_count": 2,
   "id": "ea540df3-1a4e-4581-82d9-f63f421c377f",
   "metadata": {},
   "outputs": [],
   "source": [
    "dataset = np.genfromtxt('dataset_total4.csv', delimiter=',')"
   ]
  },
  {
   "cell_type": "markdown",
   "id": "bb3dbf80-53c2-4438-9a83-5343c64d2f98",
   "metadata": {},
   "source": [
    "For model prob -> market share following probabilities are used and finaly market share for each point is drawn at plot bellow"
   ]
  },
  {
   "cell_type": "code",
   "execution_count": 8,
   "id": "988a8d71-9daf-421d-99f4-47c6c8d66e2e",
   "metadata": {},
   "outputs": [
    {
     "data": {
      "image/png": "[encoded data removed]",
      "text/plain": [
       "<Figure size 432x288 with 1 Axes>"
      ]
     },
     "metadata": {
      "needs_background": "light"
     },
     "output_type": "display_data"
    },
    {
     "data": {
      "image/png": "[encoded data removed]",
      "text/plain": [
       "<Figure size 432x288 with 1 Axes>"
      ]
     },
     "metadata": {
      "needs_background": "light"
     },
     "output_type": "display_data"
    }
   ],
   "source": [
    "plt.plot(dataset[:,0],dataset[:,1],'o',c = 'b',label = 'company')\n",
    "plt.plot(dataset[:,2],dataset[:,3],'o',c = 'r',label = 'compatitor')\n",
    "plt.ylabel(\"satisfied\")\n",
    "plt.xlabel(\"dissapointed\")\n",
    "plt.legend()\n",
    "plt.plot([0,0.5,1],[1,0.5,0],'-')\n",
    "plt.show()\n",
    "\n",
    "#plt.plot(0.70,0.12,'o',c = 'r',label = 'point')\n",
    "plt.plot(dataset[:,4],dataset[:,5],'o',c = 'b',label = 'Market Share')\n",
    "plt.plot([0,0.5,1],[1,0.5,0],'-')\n",
    "plt.xlabel(\"M1\")\n",
    "plt.ylabel(\"M2\")\n",
    "plt.legend()\n",
    "\n",
    "plt.show()\n"
   ]
  },
  {
   "cell_type": "markdown",
   "id": "afb9b31a-928a-4651-a1ac-bd8a0b577627",
   "metadata": {
    "tags": []
   },
   "source": [
    "### Data preparation\n",
    "On this section data is prepared for model bellow"
   ]
  },
  {
   "cell_type": "code",
   "execution_count": 3,
   "id": "ad98f005-b291-419e-974d-fa84e37d7fde",
   "metadata": {},
   "outputs": [],
   "source": [
    "dataset = np.genfromtxt('dataset_total4.csv', delimiter=',')\n",
    "X = dataset[:,0:4]\n",
    "y_company = dataset[:,4].reshape((dataset.shape[0],1))\n",
    "y_compatitor = dataset[:,5].reshape((dataset.shape[0],1))"
   ]
  },
  {
   "cell_type": "code",
   "execution_count": 4,
   "id": "f8043c3f-1fa4-477d-b633-5604e8755af5",
   "metadata": {},
   "outputs": [],
   "source": [
    "y_company = np.around(y_company,3)\n",
    "y_compatitor = np.around(y_compatitor,3)"
   ]
  },
  {
   "cell_type": "code",
   "execution_count": 5,
   "id": "9238dec7-2322-4bb7-b277-5c653a8aa799",
   "metadata": {},
   "outputs": [],
   "source": [
    "from sklearn.model_selection import train_test_split\n",
    "x_train, x_test,y_train,y_test = train_test_split(X,y_company,test_size=0.3,random_state=42,shuffle=True)\n",
    "x_train_c, x_test_c,y_train_c,y_test_c = train_test_split(X,y_compatitor,test_size=0.3,random_state=42,shuffle=True)"
   ]
  },
  {
   "cell_type": "markdown",
   "id": "4c520e34-b4c5-4e5b-b3f1-d7a938d3fcbb",
   "metadata": {
    "tags": []
   },
   "source": [
    "### Model (probability -> market share)\n",
    "To estimate function g(probability) = market share linear regrassion and SVR is used. Model was evaluated with MAE and MSE"
   ]
  },
  {
   "cell_type": "markdown",
   "id": "66c39a74-1152-42aa-a174-bad304223e5f",
   "metadata": {
    "tags": []
   },
   "source": [
    "#### Linear Regression"
   ]
  },
  {
   "cell_type": "code",
   "execution_count": 11,
   "id": "0f1ab478-7b8f-4bc8-9e95-c888ecc24a60",
   "metadata": {},
   "outputs": [],
   "source": [
    "from sklearn import preprocessing\n",
    "from sklearn.linear_model import LinearRegression\n",
    "\n",
    "p = preprocessing.PolynomialFeatures(5)\n",
    "model_l = LinearRegression()\n",
    "model_l_c = LinearRegression()\n",
    "\n",
    "#x_train, x_test,y_train,y_test\n",
    "#x_train_c, x_test_c,y_train_c,y_test_c\n",
    "\n",
    "model_l.fit(p.fit_transform(x_train), y_train)\n",
    "y_pred = abs(model_l.predict(p.fit_transform(x_test)))\n",
    "\n",
    "model_l_c.fit(p.fit_transform(x_train_c), y_train_c)\n",
    "y_pred_c = abs(model_l_c.predict(p.fit_transform(x_test_c)))"
   ]
  },
  {
   "cell_type": "markdown",
   "id": "fda9b7f3-ba12-40d7-8f6a-1df5c96a1880",
   "metadata": {},
   "source": [
    "##### evaluate"
   ]
  },
  {
   "cell_type": "code",
   "execution_count": 12,
   "id": "ab328302-7e82-429c-862d-38c4ee088ba5",
   "metadata": {},
   "outputs": [
    {
     "name": "stdout",
     "output_type": "stream",
     "text": [
      "MAE\n",
      "Company's market share 0.047810376582450985\n",
      "Compatitor Company's market share 0.0467314184744747\n",
      "MSE\n",
      "Company's market share 0.00877868859020331\n",
      "Compatitor Company's market share 0.00864587818907129\n"
     ]
    }
   ],
   "source": [
    "from sklearn.metrics import mean_squared_error\n",
    "from sklearn.metrics import mean_absolute_error\n",
    "from sklearn.metrics import accuracy_score\n",
    "\n",
    "def evaluation(y_test,y_pred,y_test_c,y_pred_c):\n",
    "    print(\"MAE\")\n",
    "    print(f\"Company's market share {mean_absolute_error(y_test,y_pred)}\")\n",
    "    print(f\"Compatitor Company's market share {mean_absolute_error(y_test_c,y_pred_c)}\")\n",
    "\n",
    "\n",
    "    print(\"MSE\")\n",
    "    print(f\"Company's market share {mean_squared_error(y_test,y_pred)}\")\n",
    "    print(f\"Compatitor Company's market share {mean_squared_error(y_test_c,y_pred_c)}\")\n",
    "\n",
    "evaluation(y_test,y_pred,y_test_c,y_pred_c)"
   ]
  },
  {
   "cell_type": "markdown",
   "id": "762e31c9-4fda-463c-82f1-54893fd1ee82",
   "metadata": {
    "tags": []
   },
   "source": [
    "#### SVR\n",
    "For SVR different parameters for checked and higher performance was shown by linear kernal and regularization C = 0.5"
   ]
  },
  {
   "cell_type": "code",
   "execution_count": 6,
   "id": "7e0a15cd-0b11-4c2f-adef-c10f9500dcb5",
   "metadata": {},
   "outputs": [
    {
     "name": "stdout",
     "output_type": "stream",
     "text": [
      "Score and best estimator for model that predict M1\n",
      "0.7420550064871818\n",
      "SVR(C=0.5, kernel='linear')\n",
      "Score and best estimator for model that predict M2\n",
      "0.7477564209815603\n",
      "SVR(C=0.5, kernel='linear')\n"
     ]
    }
   ],
   "source": [
    "from sklearn.model_selection import GridSearchCV\n",
    "from sklearn.svm import SVR\n",
    "\n",
    "param = [{'kernel':('linear','sigmoid'),\n",
    "         'C':[0.5,1,2,3]\n",
    "         },\n",
    "         {'kernel':('poly',),\n",
    "          'C':[0.5,],\n",
    "          'degree':[1,2,3]\n",
    "         }\n",
    "        ]\n",
    "grid1 = GridSearchCV(SVR(),param,error_score='raise')\n",
    "grid1.fit(x_train,y_train.reshape((y_train.shape[0],)))\n",
    "print(\"Score and best estimator for model that predict M1\")\n",
    "print(grid1.best_score_)\n",
    "print(grid1.best_estimator_)\n",
    "\n",
    "grid2 = GridSearchCV(SVR(),param)\n",
    "grid2.fit(x_train,y_train_c.reshape((y_train_c.shape[0],)))\n",
    "print(\"Score and best estimator for model that predict M2\")\n",
    "print(grid2.best_score_)\n",
    "print(grid2.best_estimator_)"
   ]
  },
  {
   "cell_type": "code",
   "execution_count": 10,
   "id": "2e8f34e7-6b07-4955-9b7a-921851d254f3",
   "metadata": {},
   "outputs": [
    {
     "name": "stdout",
     "output_type": "stream",
     "text": [
      "(1650,) (1650, 1)\n",
      "MAE\n",
      "Company's market share 0.14358864760287451\n",
      "Compatitor Company's market share 0.40876994548481327\n",
      "MSE\n",
      "Company's market share 0.033464836107003536\n",
      "Compatitor Company's market share 0.3016454355599292\n"
     ]
    }
   ],
   "source": [
    "from sklearn.svm import SVR\n",
    "\n",
    "model_svr = SVR(C=0.5, kernel='linear')\n",
    "model_svr.fit(x_train,y_train.reshape((y_train.shape[0],)))\n",
    "y_pred = model_svr.predict(x_test)\n",
    "print(y_pred.shape,y_test.shape)\n",
    "\n",
    "model_svr_c = SVR(C=0.5, kernel='linear')\n",
    "model_svr_c.fit(x_train_c,y_train_c.reshape((y_train_c.shape[0],)))\n",
    "y_pred_c = model_svr.predict(x_test_c)\n",
    "\n",
    "evaluation(y_test,y_pred,y_test_c,y_pred_c)"
   ]
  },
  {
   "cell_type": "code",
   "execution_count": null,
   "id": "e2f7f677-cb4f-4f22-9bce-b7321b719e57",
   "metadata": {},
   "outputs": [],
   "source": [
    "from torch.utils.data import Dataset\n",
    "from torch.utils.data import DataLoader\n",
    "import torch\n",
    "from torch import nn\n",
    "\n",
    "class Dataset(Dataset):\n",
    "    def __init__(self, x,y,train,transform):\n",
    "        self.x = torch.from_numpy(x)\n",
    "        self.y = torch.from_numpy(y)\n",
    "        \n",
    "\n",
    "    def __len__(self):\n",
    "        return len(self.x)\n",
    "\n",
    "    def __getitem__(self, i):\n",
    "        return self.x[i],self.y[i]\n",
    "class Model(nn.Model):\n",
    "    def __init__(self):\n",
    "        supper().__init__()\n",
    "        "
   ]
  },
  {
   "cell_type": "markdown",
   "id": "9267aad4-956e-4753-82bc-103f76dd3d3c",
   "metadata": {},
   "source": [
    "#### Final model:"
   ]
  },
  {
   "cell_type": "code",
   "execution_count": 284,
   "id": "31b2a10c-528f-4ae5-85aa-ea9e7454f10f",
   "metadata": {},
   "outputs": [],
   "source": [
    "p_to_ms_model = model_l\n",
    "p_to_ms_model_c = model_l_c"
   ]
  },
  {
   "cell_type": "markdown",
   "id": "69288ade-0008-4aec-8cf9-055652dd827d",
   "metadata": {
    "tags": []
   },
   "source": [
    "### Data preparation\n",
    "On this section data is prepared for model market share -> probability"
   ]
  },
  {
   "cell_type": "code",
   "execution_count": 4,
   "id": "13032057-41ae-4f31-85d5-be8100d6dce0",
   "metadata": {},
   "outputs": [],
   "source": [
    "dataset = np.genfromtxt('dataset_total4.csv', delimiter=',')\n",
    "X = dataset[:,4:]\n",
    "y = dataset[:,0:4]"
   ]
  },
  {
   "cell_type": "code",
   "execution_count": 5,
   "id": "759521d0-7422-466f-8f9b-251c235928b2",
   "metadata": {},
   "outputs": [],
   "source": [
    "X = np.around(X,3)"
   ]
  },
  {
   "cell_type": "code",
   "execution_count": 6,
   "id": "c03fef05-0ddf-4ea7-b3a5-bfb6c792017d",
   "metadata": {},
   "outputs": [],
   "source": [
    "from sklearn.model_selection import train_test_split\n",
    "x_train, x_test,y_train,y_test = train_test_split(X,y,test_size=0.3,random_state=42,shuffle=True)"
   ]
  },
  {
   "cell_type": "markdown",
   "id": "ec8475e1-c354-485e-9a53-f89f8d78c404",
   "metadata": {},
   "source": [
    "#model.predict(p.fit_transform(np.array([[0.3, 0.2, 0.2, 0.5]]))), model_c.predict(p.fit_transform(np.array([[0.3, 0.2, 0.2, 0.5]])))"
   ]
  },
  {
   "cell_type": "markdown",
   "id": "3833f884-41a4-489b-ac48-b9c25c8e4635",
   "metadata": {
    "tags": []
   },
   "source": [
    "### Model (market share -> probability)"
   ]
  },
  {
   "cell_type": "code",
   "execution_count": 7,
   "id": "5df3c288-f7e3-4b63-ad72-16758d5780b7",
   "metadata": {},
   "outputs": [],
   "source": [
    "from sklearn import preprocessing\n",
    "from sklearn.linear_model import LinearRegression\n",
    "\n",
    "p1 = preprocessing.PolynomialFeatures(3)\n",
    "model_inv_l = LinearRegression()\n",
    "\n",
    "#x_train, x_test,y_train,y_test\n",
    "#x_train_c, x_test_c,y_train_c,y_test_c\n",
    "\n",
    "model_inv_l.fit(p1.fit_transform(x_train), y_train)\n",
    "y_pred = model_inv_l.predict(p1.fit_transform(x_test))"
   ]
  },
  {
   "cell_type": "markdown",
   "id": "38a38b63-4d3f-4f95-b109-47943128936b",
   "metadata": {},
   "source": [
    "#### evaluation"
   ]
  },
  {
   "cell_type": "code",
   "execution_count": 8,
   "id": "53990751-e3b3-4f90-99ef-de95fc1b1af1",
   "metadata": {},
   "outputs": [
    {
     "name": "stdout",
     "output_type": "stream",
     "text": [
      "MAE\n",
      " 0.07416892139921316\n",
      "MSE\n",
      " 0.01697160953614704\n"
     ]
    }
   ],
   "source": [
    "from sklearn.metrics import mean_squared_error\n",
    "from sklearn.metrics import mean_absolute_error\n",
    "from sklearn.metrics import accuracy_score\n",
    "print(\"MAE\")\n",
    "print(f\" {mean_absolute_error(y_test,y_pred)}\")\n",
    "\n",
    "\n",
    "print(\"MSE\")\n",
    "print(f\" {mean_squared_error(y_test,y_pred)}\")\n"
   ]
  },
  {
   "cell_type": "markdown",
   "id": "3d37160f-426f-4062-b69d-e84c45e6cf86",
   "metadata": {},
   "source": [
    "### SVR\n",
    "For SVR parameters was tuned. Finally linear kernal and poly kernal of degree 1 and 2 show best result"
   ]
  },
  {
   "cell_type": "code",
   "execution_count": 11,
   "id": "fe363fa5-26ce-4b74-9553-9d94f2b8bee6",
   "metadata": {},
   "outputs": [
    {
     "name": "stdout",
     "output_type": "stream",
     "text": [
      "Score and best estimator for model that predict p11\n",
      "0.7068922203355766\n",
      "SVR(C=0.5, degree=2, kernel='poly')\n",
      "Score and best estimator for model that predict p13\n",
      "0.28172908757066295\n",
      "SVR(C=0.5, kernel='linear')\n",
      "Score and best estimator for model that predict p31\n",
      "0.7190889072180704\n",
      "SVR(C=0.5, degree=2, kernel='poly')\n",
      "Score and best estimator for model that predict p32\n",
      "0.2747970105301155\n",
      "SVR(C=0.5, degree=1, kernel='poly')\n"
     ]
    }
   ],
   "source": [
    "from sklearn.model_selection import GridSearchCV\n",
    "from sklearn.svm import SVR\n",
    "\n",
    "param = [{'kernel':('linear','sigmoid'),\n",
    "         'C':[0.5,1,2,3]\n",
    "         },\n",
    "         {'kernel':('poly',),\n",
    "          'C':[0.5,],\n",
    "          'degree':[1,2,3]\n",
    "         }\n",
    "        ]\n",
    "grid1 = GridSearchCV(SVR(),param,error_score='raise')\n",
    "grid1.fit(x_train,y_train[:,0])\n",
    "print(\"Score and best estimator for model that predict p11\")\n",
    "print(grid1.best_score_)\n",
    "print(grid1.best_estimator_)\n",
    "\n",
    "grid2 = GridSearchCV(SVR(),param,error_score='raise')\n",
    "grid2.fit(x_train,y_train[:,1])\n",
    "print(\"Score and best estimator for model that predict p13\")\n",
    "print(grid2.best_score_)\n",
    "print(grid2.best_estimator_)\n",
    "\n",
    "grid3 = GridSearchCV(SVR(),param,error_score='raise')\n",
    "grid3.fit(x_train,y_train[:,2])\n",
    "print(\"Score and best estimator for model that predict p31\")\n",
    "print(grid3.best_score_)\n",
    "print(grid3.best_estimator_)\n",
    "\n",
    "grid4 = GridSearchCV(SVR(),param,error_score='raise')\n",
    "grid4.fit(x_train,y_train[:,3])\n",
    "print(\"Score and best estimator for model that predict p32\")\n",
    "print(grid4.best_score_)\n",
    "print(grid4.best_estimator_)"
   ]
  },
  {
   "cell_type": "code",
   "execution_count": 18,
   "id": "e22da1c7-8f78-4b22-af1a-df3685527898",
   "metadata": {},
   "outputs": [
    {
     "name": "stdout",
     "output_type": "stream",
     "text": [
      "p11\n",
      "MAE\n",
      " 0.09142830628347559\n",
      "MSE\n",
      " 0.01514542609029999\n",
      "p13\n",
      "MAE\n",
      " 0.15545324094911905\n",
      "MSE\n",
      " 0.04042383697063914\n",
      "p23\n",
      "MAE\n",
      " 0.09137419740653957\n",
      "MSE\n",
      " 0.015992252773762785\n",
      "p23\n",
      "MAE\n",
      " 0.1577103859897681\n",
      "MSE\n",
      " 0.04293840640319383\n"
     ]
    }
   ],
   "source": [
    "from sklearn.svm import SVR\n",
    "\n",
    "y_pred = []\n",
    "model_svr1 = SVR(C=0.5, degree=2, kernel='poly')\n",
    "model_svr1.fit(x_train,y_train[:,0])\n",
    "y_pred.append(model_svr1.predict(x_test))\n",
    "#print(y_pred.shape,y_test.shape)\n",
    "\n",
    "\n",
    "model_svr2 = SVR(C=0.5, kernel='linear')\n",
    "model_svr2.fit(x_train,y_train[:,1])\n",
    "y_pred.append(model_svr2.predict(x_test))\n",
    "#print(y_pred.shape,y_test.shape)\n",
    "\n",
    "\n",
    "model_svr3 = SVR(C=0.5, degree=2, kernel='poly')\n",
    "model_svr3.fit(x_train,y_train[:,2])\n",
    "y_pred.append(model_svr3.predict(x_test))\n",
    "#print(y_pred.shape,y_test.shape)\n",
    "\n",
    "\n",
    "model_svr4 = SVR(C=0.5, degree=1, kernel='poly')\n",
    "model_svr4.fit(x_train,y_train[:,3])\n",
    "y_pred.append(model_svr4.predict(x_test))\n",
    "\n",
    "\n",
    "from sklearn.metrics import mean_squared_error\n",
    "from sklearn.metrics import mean_absolute_error\n",
    "from sklearn.metrics import accuracy_score\n",
    "print(\"p11\")\n",
    "print(\"MAE\")\n",
    "print(f\" {mean_absolute_error(y_test[:,0],y_pred[0])}\")\n",
    "print(\"MSE\")\n",
    "print(f\" {mean_squared_error(y_test[:,0],y_pred[0])}\")\n",
    "\n",
    "print(\"p13\")\n",
    "print(\"MAE\")\n",
    "print(f\" {mean_absolute_error(y_test[:,1],y_pred[1])}\")\n",
    "print(\"MSE\")\n",
    "print(f\" {mean_squared_error(y_test[:,1],y_pred[1])}\")\n",
    "\n",
    "print(\"p23\")\n",
    "print(\"MAE\")\n",
    "print(f\" {mean_absolute_error(y_test[:,2],y_pred[2])}\")\n",
    "print(\"MSE\")\n",
    "print(f\" {mean_squared_error(y_test[:,2],y_pred[2])}\")\n",
    "\n",
    "print(\"p23\")\n",
    "print(\"MAE\")\n",
    "print(f\" {mean_absolute_error(y_test[:,3],y_pred[3])}\")\n",
    "print(\"MSE\")\n",
    "print(f\" {mean_squared_error(y_test[:,3],y_pred[3])}\")"
   ]
  },
  {
   "cell_type": "code",
   "execution_count": 290,
   "id": "6b978471-72a6-4aed-8ffd-f89689b41954",
   "metadata": {},
   "outputs": [],
   "source": [
    "ms_to_p_model = model_inv_l"
   ]
  },
  {
   "cell_type": "markdown",
   "id": "45786ab1-3818-4643-82bb-0eeb7d11ed98",
   "metadata": {},
   "source": [
    "## Pick Market Share\n",
    "Let's pick `0.62, 0.12` market share and fix compatitor probability `p21 = 0.3, p23 = 0.2`"
   ]
  },
  {
   "cell_type": "markdown",
   "id": "6142a77c-6891-404e-882c-2624f522f215",
   "metadata": {},
   "source": [
    "### Get prob for given market share"
   ]
  },
  {
   "cell_type": "code",
   "execution_count": null,
   "id": "594b1e83-978a-456e-9743-8c3dec974dd7",
   "metadata": {},
   "outputs": [],
   "source": [
    "M1,M2 = 0.75,0.12\n",
    "percent = 0.07\n",
    "step = 0.01\n",
    "list_of_prob = np.zeros((0,4))\n",
    "for x in np.arange(M1-percent,M1+percent,step):\n",
    "    expr = round(pow(0.07,2)-pow(x-M1,2),5)\n",
    "    y_min = M2-pow(expr,0.5)\n",
    "    y_max = M2+pow(expr,0.5)\n",
    "    for y in np.arange(y_min,y_max,step):\n",
    "        value = p1.fit_transform(np.array([[x,y]]))\n",
    "        pred = ms_to_p_model.predict(value)\n",
    "        if np.all(pred>0):\n",
    "            list_of_prob = np.append(list_of_prob,ms_to_p_model.predict(value),axis=0)\n",
    "#list_of_prob\n",
    "plt.plot(list_of_prob[:,0],list_of_prob[:,1],'o',c = 'b',label = 'company')\n",
    "plt.plot(list_of_prob[:,2],list_of_prob[:,3],'o',c = 'r',label = 'compatitor')\n",
    "plt.xlabel(\"satisfied\")\n",
    "plt.ylabel(\"dissapointed\")\n",
    "plt.legend()\n",
    "plt.plot([0,0.5,1],[1,0.5,0],'-')\n",
    "plt.show()"
   ]
  },
  {
   "cell_type": "code",
   "execution_count": null,
   "id": "dcaf479d-0c99-4eb2-aef5-f9674acce9d3",
   "metadata": {},
   "outputs": [],
   "source": [
    "value = p.fit_transform(np.array([[0.2,0.4,0.5,0.02]]))\n",
    "p_to_ms_model.predict(value)"
   ]
  },
  {
   "cell_type": "markdown",
   "id": "fc2c5629-d2df-40c7-badf-3a1da2646b97",
   "metadata": {},
   "source": [
    "### More detailed grid\n",
    "build more detaild grid for p11 and p13 from `list_of_prob`. Finally values will be saved to use it later"
   ]
  },
  {
   "cell_type": "code",
   "execution_count": null,
   "id": "1c913e56-4b85-4258-aa69-bd3740fd9a60",
   "metadata": {},
   "outputs": [],
   "source": [
    "min(list_of_prob[:,0]),max(list_of_prob[:,0])"
   ]
  },
  {
   "cell_type": "code",
   "execution_count": null,
   "id": "fb3cd97a-7c77-46af-80e0-fd23c636bf51",
   "metadata": {},
   "outputs": [],
   "source": [
    "from tqdm.notebook import tqdm, trange\n",
    "step = 0.01\n",
    "p11_min,p11_max = min(list_of_prob[:,0]),max(list_of_prob[:,0])\n",
    "p13_min,p13_max = min(list_of_prob[:,1]),max(list_of_prob[:,1])\n",
    "\n",
    "take_elem = int(pow((1/step),2)*(p11_max-p11_min)/step*(p13_max-p13_min)/step)\n",
    "print(take_elem)\n",
    "\n",
    "\n",
    "X = np.zeros((take_elem,4))\n",
    "y_company = np.zeros((take_elem,1))\n",
    "y_compatitor = np.zeros((take_elem,1))\n",
    "\n",
    "i = 0\n",
    "iter = tqdm(range(take_elem))\n",
    "for p11 in np.arange(p11_min,p11_max,step):\n",
    "    if i >= take_elem:\n",
    "        break\n",
    "    for p13 in np.arange(p13_min,p13_max,step):\n",
    "        if i >= take_elem:\n",
    "            break\n",
    "        if p11+p13>=1:\n",
    "            #print(p11,p13,p21,p23)\n",
    "            continue\n",
    "        for p21 in np.arange(0,1,step):\n",
    "            if i >= take_elem:\n",
    "                break\n",
    "            for p23 in np.arange(0,1,step):\n",
    "                if i >= take_elem:\n",
    "                    print(i,take_elem)\n",
    "                    print(p11,p13,p21,p23)\n",
    "                    break\n",
    "                if p11+p13<1 and p21+p23<1:\n",
    "                    res = simulate(p11,p13,p21,p23)\n",
    "                    \n",
    "                    X[i] = [p11,p13,p21,p23]\n",
    "                    y_company[i],y_compatitor[i] = calculate_concentration(res)\n",
    "                i+=1\n",
    "                iter.update()\n",
    "                "
   ]
  },
  {
   "cell_type": "code",
   "execution_count": null,
   "id": "4f9d416e-1a5c-4b39-9ed6-18ba9561a3fe",
   "metadata": {},
   "outputs": [],
   "source": [
    "np.savetxt('dataset_detaild_grid4.csv',np.concatenate([X[0:i],y_company[0:i],y_compatitor[0:i]],axis = 1),delimiter=',')"
   ]
  },
  {
   "cell_type": "code",
   "execution_count": 19,
   "id": "8d10402c-2b40-4967-9b21-614568359024",
   "metadata": {},
   "outputs": [
    {
     "data": {
      "text/plain": [
       "(468,)"
      ]
     },
     "execution_count": 19,
     "metadata": {},
     "output_type": "execute_result"
    }
   ],
   "source": [
    "dataset = np.genfromtxt('dataset_detaild_grid4.csv', delimiter=',')\n",
    "prob = np.round(dataset[:,0:4],3)\n",
    "y1 = np.round(dataset[:,4],3)\n",
    "y2 = np.round(dataset[:,5],3)\n",
    "(np.unique(y1)).shape"
   ]
  },
  {
   "cell_type": "markdown",
   "id": "695094f4-ceb4-44ca-9149-5b3ae3cb3782",
   "metadata": {},
   "source": [
    "### Statistic"
   ]
  },
  {
   "cell_type": "code",
   "execution_count": 20,
   "id": "5d483b21-a07d-4b7d-bd70-3c8a2ebe313d",
   "metadata": {},
   "outputs": [
    {
     "name": "stdout",
     "output_type": "stream",
     "text": [
      "mean value:\n",
      "company: 0.22522288628575984\n",
      "compatitor: 0.21319403936568654\n",
      "variance:\n",
      "company: 0.09090827186126856\n",
      "compatitor: 0.12960262941382933\n"
     ]
    }
   ],
   "source": [
    "print(\"mean value:\")\n",
    "print(f\"company: {y1.mean()}\")\n",
    "print(f\"compatitor: {y2.mean()}\")\n",
    "\n",
    "print(\"variance:\")\n",
    "print(f\"company: {y1.var()}\")\n",
    "print(f\"compatitor: {y2.var()}\")"
   ]
  },
  {
   "cell_type": "markdown",
   "id": "72525a18-9396-4a9d-ae8e-6fd764b0ae3f",
   "metadata": {},
   "source": [
    "### Plots"
   ]
  },
  {
   "cell_type": "code",
   "execution_count": 21,
   "id": "b19b0b6e-61b7-42e3-aaaa-77fb56b8c35b",
   "metadata": {},
   "outputs": [
    {
     "data": {
      "image/png": "[encoded data removed]",
      "text/plain": [
       "<Figure size 432x288 with 1 Axes>"
      ]
     },
     "metadata": {
      "needs_background": "light"
     },
     "output_type": "display_data"
    },
    {
     "data": {
      "image/png": "[encoded data removed]",
      "text/plain": [
       "<Figure size 432x288 with 1 Axes>"
      ]
     },
     "metadata": {
      "needs_background": "light"
     },
     "output_type": "display_data"
    },
    {
     "data": {
      "image/png": "[encoded data removed]",
      "text/plain": [
       "<Figure size 432x288 with 1 Axes>"
      ]
     },
     "metadata": {
      "needs_background": "light"
     },
     "output_type": "display_data"
    }
   ],
   "source": [
    "#Plot market share\n",
    "plt.hist(y1,bins=(np.unique(y1)).shape[0])\n",
    "plt.ylabel(\"# of values\")\n",
    "plt.xlabel(\"Market share\")\n",
    "#plt.legend(\"Market share for company\")\n",
    "plt.show()\n",
    "\n",
    "#Plot market share\n",
    "plt.hist(y2,bins=(np.unique(y2)).shape[0])\n",
    "plt.ylabel(\"# of values\")\n",
    "plt.xlabel(\"Market share\")\n",
    "#plt.legend(\"Market share for compatitor\")\n",
    "plt.show()\n",
    "\n",
    "plt.plot(y1,y2,'o',c = 'b',label = \"Market share\")\n",
    "plt.ylabel(\"Market share for compatitor\")\n",
    "plt.xlabel(\"Market share for company\")\n",
    "plt.legend(\"Market share\")\n",
    "plt.show()\n"
   ]
  },
  {
   "cell_type": "markdown",
   "id": "f3774158-4300-4318-ae62-1131ddcb0d1a",
   "metadata": {},
   "source": [
    "### Result\n",
    "Probabilities which give market share which deviade from chosen points (`0.62, 0.2`) with value `0.01`"
   ]
  },
  {
   "cell_type": "code",
   "execution_count": null,
   "id": "cd633cd0-66cb-46e0-8eaf-3c050720e39d",
   "metadata": {},
   "outputs": [],
   "source": [
    "prob[mask][:]"
   ]
  },
  {
   "cell_type": "code",
   "execution_count": 22,
   "id": "0e30e0b1-b52d-408b-ab68-6621a07a3cec",
   "metadata": {},
   "outputs": [
    {
     "name": "stdout",
     "output_type": "stream",
     "text": [
      "[[0.    0.    0.    0.   ]\n",
      " [0.    0.    0.    0.   ]\n",
      " [0.    0.    0.    0.   ]\n",
      " ...\n",
      " [0.238 0.297 0.25  0.46 ]\n",
      " [0.238 0.297 0.25  0.47 ]\n",
      " [0.238 0.297 0.25  0.48 ]]\n",
      "[0.    0.    0.    ... 0.592 0.597 0.601]\n",
      "[0.    0.    0.    ... 0.069 0.065 0.061]\n"
     ]
    }
   ],
   "source": [
    "mask = np.all([(y1-0.62)<=0.01,(y2-0.2)<=0.01],axis=0)\n",
    "print(prob[mask])\n",
    "print(y1[mask])\n",
    "print(y2[mask])"
   ]
  },
  {
   "cell_type": "code",
   "execution_count": 23,
   "id": "089a2f57-e5c5-4856-acd8-17dae5314681",
   "metadata": {},
   "outputs": [
    {
     "data": {
      "image/png": "[encoded data removed]",
      "text/plain": [
       "<Figure size 432x288 with 1 Axes>"
      ]
     },
     "metadata": {
      "needs_background": "light"
     },
     "output_type": "display_data"
    },
    {
     "data": {
      "image/png": "[encoded data removed]",
      "text/plain": [
       "<Figure size 432x288 with 1 Axes>"
      ]
     },
     "metadata": {
      "needs_background": "light"
     },
     "output_type": "display_data"
    }
   ],
   "source": [
    "plt.plot(y1[mask],y2[mask],'o',c = 'b',label = \"Market share\")\n",
    "plt.ylabel(\"Market share for compatitor\")\n",
    "plt.xlabel(\"Market share for company\")\n",
    "plt.legend()\n",
    "plt.show()\n",
    "plt.plot(prob[mask][:,2],prob[mask][:,3],'o',c = 'b',label = \"probabilities compatitor\")\n",
    "plt.plot(prob[mask][:,0],prob[mask][:,1],'o',c = 'r',label = \"probabilities company\")\n",
    "\n",
    "plt.ylabel(\"dissaponted\")\n",
    "plt.xlabel(\"sutisfied\")\n",
    "plt.legend()\n",
    "plt.show()"
   ]
  },
  {
   "cell_type": "code",
   "execution_count": null,
   "id": "e9ea32e4-a392-4a8b-80be-0ba93b06dd26",
   "metadata": {},
   "outputs": [],
   "source": []
  }
 ],
 "metadata": {
  "kernelspec": {
   "display_name": "Python 3 (ipykernel)",
   "language": "python",
   "name": "python3"
  },
  "language_info": {
   "codemirror_mode": {
    "name": "ipython",
    "version": 3
   },
   "file_extension": ".py",
   "mimetype": "text/x-python",
   "name": "python",
   "nbconvert_exporter": "python",
   "pygments_lexer": "ipython3",
   "version": "3.8.8"
  }
 },
 "nbformat": 4,
 "nbformat_minor": 5
}
